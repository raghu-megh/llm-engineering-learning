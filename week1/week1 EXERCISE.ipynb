{
 "cells": [
  {
   "cell_type": "markdown",
   "id": "fe12c203-e6a6-452c-a655-afb8a03a4ff5",
   "metadata": {},
   "source": [
    "# End of week 1 exercise\n",
    "\n",
    "To demonstrate your familiarity with OpenAI API, and also Ollama, build a tool that takes a technical question,  \n",
    "and responds with an explanation. This is a tool that you will be able to use yourself during the course!"
   ]
  },
  {
   "cell_type": "code",
   "execution_count": 1,
   "id": "c1070317-3ed9-4659-abe3-828943230e03",
   "metadata": {},
   "outputs": [],
   "source": [
    "# imports\n",
    "\n",
    "import os\n",
    "from dotenv import load_dotenv\n",
    "from IPython.display import Markdown, display, update_display\n",
    "from openai import OpenAI"
   ]
  },
  {
   "cell_type": "code",
   "execution_count": 2,
   "id": "4a456906-915a-4bfd-bb9d-57e505c5093f",
   "metadata": {},
   "outputs": [
    {
     "name": "stdout",
     "output_type": "stream",
     "text": [
      "API key looks good so far\n"
     ]
    }
   ],
   "source": [
    "# constants\n",
    "\n",
    "MODEL_GPT = 'gpt-4o-mini'\n",
    "MODEL_LLAMA = 'llama3.2'"
   ]
  },
  {
   "cell_type": "code",
   "execution_count": 3,
   "id": "a8d7923c-5f28-4c30-8556-342d7c8497c1",
   "metadata": {},
   "outputs": [
    {
     "name": "stdout",
     "output_type": "stream",
     "text": [
      "API key looks good so far\n"
     ]
    }
   ],
   "source": [
    "# set up environment\n",
    "load_dotenv()\n",
    "api_key = os.getenv('OPENAI_API_KEY')\n",
    "\n",
    "if api_key and api_key.startswith('sk-proj-') and len(api_key)>10:\n",
    "    print(\"API key looks good so far\")\n",
    "else:\n",
    "    print(\"There might be a problem with your API key? Please visit the troubleshooting notebook!\")\n",
    "    \n",
    "MODEL = 'gpt-4o-mini'\n",
    "openai = OpenAI()"
   ]
  },
  {
   "cell_type": "code",
   "execution_count": 4,
   "id": "3f0d0137-52b0-47a8-81a8-11a90a010798",
   "metadata": {},
   "outputs": [],
   "source": [
    "# here is the question; type over this to ask something new\n",
    "\n",
    "question = \"\"\"\n",
    "Please explain what this code does and why:\n",
    "yield from {book.get(\"author\") for book in books if book.get(\"author\")}\n",
    "\"\"\""
   ]
  },
  {
   "cell_type": "code",
   "execution_count": 6,
   "id": "60ce7000-a4a5-4cce-a261-e75ef45063b4",
   "metadata": {},
   "outputs": [
    {
     "data": {
      "text/markdown": [
       "**Code Explanation**\n",
       "\n",
       "The given code is written in Python and utilizes several advanced features, including generators and the `yield from` keyword.\n",
       "\n",
       "python\n",
       "yield from {book.get(\"author\") for book in books if book.get(\"author\")}\n",
       "\n",
       "\n",
       "Let's break it down:\n",
       "\n",
       "- `{...}`: This is a dictionary comprehension, which creates a new dictionary containing key-value pairs.\n",
       "- `for book in books`: This is an iteration over the `books` collection. The value of each `book` object is used to compute some value (in this case, `\"author\"`).\n",
       "- `if book.get(\"author\")`: This filters out any `book` that doesn't have a key called `\"author\"`.\n",
       "- `yield from ...`: This is where the magic happens. Instead of creating an explicit list or dictionary, it uses the values computed by the dictionary comprehension and yields them one by one.\n",
       "\n",
       "**What does it do?**\n",
       "\n",
       "In essence, this code creates a generator expression that:\n",
       "\n",
       "1. Iterates over the `books` collection.\n",
       "2. For each book, checks if it has an `\"author\"` key.\n",
       "3. If it does, includes the value of that key in the output (i.e., the author's name).\n",
       "4. Yields one author's name at a time.\n",
       "\n",
       "The result is not stored in memory but generated on-the-fly as it's needed.\n",
       "\n",
       "**Example Use Case**\n",
       "\n",
       "Here's an example where this code might be used:\n",
       "\n",
       "python\n",
       "books = [\n",
       "    {\"title\": \"Book A\", \"author\": \"John Smith\"},\n",
       "    {\"title\": \"Book B\", \"publisher\": \"ABC Press\"},\n",
       "    {\"title\": \"Book C\", \"author\": \"Jane Doe\"}\n",
       "]\n",
       "\n",
       "authors = yield from {book.get(\"author\") for book in books if book.get(\"author\")}\n",
       "for author in authors:\n",
       "    print(author)\n",
       "\n",
       "\n",
       "This will output: `John Smith` and `Jane Doe`, but not the publisher's name since that value is not present in any of the books.\n",
       "\n",
       "**Why use this code?**\n",
       "\n",
       "Using a generator expression like this offers several benefits:\n",
       "\n",
       "- **Memory Efficiency**: It doesn't require storing all authors' names in memory at once.\n",
       "- **Lazy Evaluation**: The computation only happens when needed (i.e., when iterating over the output).\n",
       "- **Concise Code**: It's written in a single line, making it easy to read and understand."
      ],
      "text/plain": [
       "<IPython.core.display.Markdown object>"
      ]
     },
     "metadata": {},
     "output_type": "display_data"
    }
   ],
   "source": [
    "# Get gpt-4o-mini to answer, with streaming\n",
    "\n",
    "system_prompt=\"\"\" You are a coding assistant who answers user questions on Python programming language. \"\"\"\n",
    "stream = openai.chat.completions.create(\n",
    "    model=MODEL_GPT,\n",
    "    messages=[\n",
    "        {\"role\": \"system\", \"content\": system_prompt},\n",
    "        {\"role\": \"user\", \"content\": question}\n",
    "      ],\n",
    "    stream=True\n",
    ")\n",
    "response = \"\"\n",
    "display_handle = display(Markdown(\"\"), display_id=True)\n",
    "for chunk in stream:\n",
    "    response += chunk.choices[0].delta.content or ''\n",
    "    response = response.replace(\"```\",\"\").replace(\"markdown\", \"\")\n",
    "    update_display(Markdown(response), display_id=display_handle.display_id)"
   ]
  },
  {
   "cell_type": "code",
   "execution_count": 15,
   "id": "8f7c8ea8-4082-4ad0-8751-3301adcf6538",
   "metadata": {},
   "outputs": [
    {
     "data": {
      "text/markdown": [
       "**Code Explanation**\n",
       "\n",
       "The given code snippet is written in Python and utilizes the `yield from` keyword, which was introduced in Python 3.3.\n",
       "\n",
       "Here's a breakdown of what this code does:\n",
       "\n",
       "python\n",
       "yield from {book.get(\"author\") for book in books if book.get(\"author\")}\n",
       "\n",
       "\n",
       "*   `for book in books`: This loop iterates over each item in the `books` collection.\n",
       "*   `if book.get(\"author\")`: Inside the loop, it checks if the current book object has an \"author\" key. The `.get()` method is used here to avoid a KeyError in case the key does not exist.\n",
       "*   `{book.get(\"author\")}`: This dictionary comprehension extracts the author's name from each book that passes the previous condition and creates a new dictionary with just the author's name.\n",
       "\n",
       "**The `yield from` Keyword**\n",
       "\n",
       "Now, let's talk about `yield from`. When you use `yield from`, it allows you to \"delegate\" iteration over another iterable (in this case, the dictionary comprehension) without having to explicitly yield each item one by one. Instead of returning a single value, `yield from` returns an iterator that yields values from the delegated iterable.\n",
       "\n",
       "In essence, `yield from {book.get(\"author\") for book in books if book.get(\"author\")}` can be seen as saying: \"For each book that passes the condition, yield its author's name. This will create an iterator that produces these author names one by one.\"\n",
       "\n",
       "**Why Use `yield from`?**\n",
       "\n",
       "There are several reasons why someone might prefer using `yield from`:\n",
       "\n",
       "*   **Efficiency**: Delegating iteration can be more memory-efficient than creating a list or other data structure to store the results.\n",
       "*   **Flexibility**: By yielding each item individually, you have more control over how these items are processed. This is especially useful in generator functions, where the function itself becomes an iterator.\n",
       "\n",
       "However, `yield from` might also make your code harder to understand, as it changes the way iteration works in that part of your code.\n",
       "\n",
       "**Example Usage**\n",
       "\n",
       "Here's a simple example to demonstrate this:\n",
       "\n",
       "python\n",
       "def author_names(books):\n",
       "    return yield from {book.get(\"author\") for book in books if book.get(\"author\")}\n",
       "\n",
       "# Define some sample data\n",
       "books = [\n",
       "    {\"id\": 1, \"title\": \"Book A\", \"author\": \"John Doe\"},\n",
       "    {\"id\": 2, \"title\": \"Book B\", \"author\": None},\n",
       "    {\"id\": 3, \"title\": \"Book C\", \"author\": \"Jane Doe\"}\n",
       "]\n",
       "\n",
       "# Create an iterator\n",
       "for author in author_names(books):\n",
       "    print(author)  # John Doe, Jane Doe\n",
       "\n",
       "\n",
       "In summary, the given code snippet uses `yield from` to create an iterator that yields the authors' names of books that have authors. It is a more memory-efficient and flexible way to process these authors compared to using explicit for loops or other methods."
      ],
      "text/plain": [
       "<IPython.core.display.Markdown object>"
      ]
     },
     "execution_count": 15,
     "metadata": {},
     "output_type": "execute_result"
    }
   ],
   "source": [
    "# Get Llama 3.2 to answer\n",
    "import ollama\n",
    "response = ollama.chat(model=MODEL_LLAMA, \n",
    "                       messages=[\n",
    "        {\"role\": \"system\", \"content\": system_prompt},\n",
    "        {\"role\": \"user\", \"content\": question}\n",
    "      ],)\n",
    "response = response['message']['content'].replace(\"```\",\"\").replace(\"markdown\", \"\")\n",
    "Markdown(response)\n",
    "#update_display(Markdown(response), display_id=display_handle.display_id)"
   ]
  },
  {
   "cell_type": "code",
   "execution_count": null,
   "id": "eeaf4ed3-ecd8-46b2-92cc-a07f2a127a63",
   "metadata": {},
   "outputs": [],
   "source": []
  }
 ],
 "metadata": {
  "kernelspec": {
   "display_name": "Python 3 (ipykernel)",
   "language": "python",
   "name": "python3"
  },
  "language_info": {
   "codemirror_mode": {
    "name": "ipython",
    "version": 3
   },
   "file_extension": ".py",
   "mimetype": "text/x-python",
   "name": "python",
   "nbconvert_exporter": "python",
   "pygments_lexer": "ipython3",
   "version": "3.11.10"
  }
 },
 "nbformat": 4,
 "nbformat_minor": 5
}
